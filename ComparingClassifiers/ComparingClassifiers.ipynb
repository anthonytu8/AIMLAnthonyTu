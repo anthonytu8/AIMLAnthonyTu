{
 "cells": [
  {
   "cell_type": "markdown",
   "metadata": {},
   "source": [
    "# Practical Application III: Comparing Classifiers\n",
    "\n",
    "**Overview**: In this practical application, your goal is to compare the performance of the classifiers we encountered in this section, namely K Nearest Neighbor, Logistic Regression, Decision Trees, and Support Vector Machines.  We will utilize a dataset related to marketing bank products over the telephone.  \n",
    "\n"
   ]
  },
  {
   "cell_type": "markdown",
   "metadata": {},
   "source": [
    "### Getting Started\n",
    "\n",
    "Our dataset comes from the UCI Machine Learning repository [link](https://archive.ics.uci.edu/ml/datasets/bank+marketing).  The data is from a Portugese banking institution and is a collection of the results of multiple marketing campaigns.  We will make use of the article accompanying the dataset [here](CRISP-DM-BANK.pdf) for more information on the data and features.\n",
    "\n"
   ]
  },
  {
   "cell_type": "markdown",
   "metadata": {},
   "source": [
    "### Problem 1: Understanding the Data\n",
    "\n",
    "To gain a better understanding of the data, please read the information provided in the UCI link above, and examine the **Materials and Methods** section of the paper.  How many marketing campaigns does this data represent?"
   ]
  },
  {
   "cell_type": "code",
   "execution_count": null,
   "metadata": {},
   "outputs": [],
   "source": []
  },
  {
   "cell_type": "markdown",
   "metadata": {},
   "source": [
    "### Problem 2: Read in the Data\n",
    "\n",
    "Use pandas to read in the dataset `bank-additional-full.csv` and assign to a meaningful variable name."
   ]
  },
  {
   "cell_type": "code",
   "execution_count": 150,
   "metadata": {},
   "outputs": [],
   "source": [
    "import time\n",
    "import pandas as pd\n",
    "import matplotlib.pyplot as plt\n",
    "import seaborn as sns\n",
    "from sklearn.datasets import load_breast_cancer\n",
    "from sklearn.svm import SVC\n",
    "from sklearn.model_selection import train_test_split, GridSearchCV, RandomizedSearchCV\n",
    "from sklearn.linear_model import LogisticRegression\n",
    "from sklearn.dummy import DummyClassifier\n",
    "from sklearn.svm import SVC\n",
    "from sklearn.model_selection import train_test_split, GridSearchCV\n",
    "from sklearn.metrics import confusion_matrix\n",
    "from sklearn.metrics import mean_squared_error\n",
    "from sklearn.tree import DecisionTreeClassifier\n",
    "from sklearn.pipeline import Pipeline\n",
    "from sklearn.preprocessing import StandardScaler\n",
    "from sklearn.neighbors import KNeighborsClassifier"
   ]
  },
  {
   "cell_type": "code",
   "execution_count": 152,
   "metadata": {},
   "outputs": [],
   "source": [
    "bank = pd.read_csv('data/bank-additional-full.csv', sep = ';')"
   ]
  },
  {
   "cell_type": "code",
   "execution_count": 154,
   "metadata": {},
   "outputs": [
    {
     "data": {
      "text/html": [
       "<div>\n",
       "<style scoped>\n",
       "    .dataframe tbody tr th:only-of-type {\n",
       "        vertical-align: middle;\n",
       "    }\n",
       "\n",
       "    .dataframe tbody tr th {\n",
       "        vertical-align: top;\n",
       "    }\n",
       "\n",
       "    .dataframe thead th {\n",
       "        text-align: right;\n",
       "    }\n",
       "</style>\n",
       "<table border=\"1\" class=\"dataframe\">\n",
       "  <thead>\n",
       "    <tr style=\"text-align: right;\">\n",
       "      <th></th>\n",
       "      <th>age</th>\n",
       "      <th>job</th>\n",
       "      <th>marital</th>\n",
       "      <th>education</th>\n",
       "      <th>default</th>\n",
       "      <th>housing</th>\n",
       "      <th>loan</th>\n",
       "      <th>contact</th>\n",
       "      <th>month</th>\n",
       "      <th>day_of_week</th>\n",
       "      <th>...</th>\n",
       "      <th>campaign</th>\n",
       "      <th>pdays</th>\n",
       "      <th>previous</th>\n",
       "      <th>poutcome</th>\n",
       "      <th>emp.var.rate</th>\n",
       "      <th>cons.price.idx</th>\n",
       "      <th>cons.conf.idx</th>\n",
       "      <th>euribor3m</th>\n",
       "      <th>nr.employed</th>\n",
       "      <th>y</th>\n",
       "    </tr>\n",
       "  </thead>\n",
       "  <tbody>\n",
       "    <tr>\n",
       "      <th>0</th>\n",
       "      <td>56</td>\n",
       "      <td>housemaid</td>\n",
       "      <td>married</td>\n",
       "      <td>basic.4y</td>\n",
       "      <td>no</td>\n",
       "      <td>no</td>\n",
       "      <td>no</td>\n",
       "      <td>telephone</td>\n",
       "      <td>may</td>\n",
       "      <td>mon</td>\n",
       "      <td>...</td>\n",
       "      <td>1</td>\n",
       "      <td>999</td>\n",
       "      <td>0</td>\n",
       "      <td>nonexistent</td>\n",
       "      <td>1.1</td>\n",
       "      <td>93.994</td>\n",
       "      <td>-36.4</td>\n",
       "      <td>4.857</td>\n",
       "      <td>5191.0</td>\n",
       "      <td>no</td>\n",
       "    </tr>\n",
       "    <tr>\n",
       "      <th>1</th>\n",
       "      <td>57</td>\n",
       "      <td>services</td>\n",
       "      <td>married</td>\n",
       "      <td>high.school</td>\n",
       "      <td>unknown</td>\n",
       "      <td>no</td>\n",
       "      <td>no</td>\n",
       "      <td>telephone</td>\n",
       "      <td>may</td>\n",
       "      <td>mon</td>\n",
       "      <td>...</td>\n",
       "      <td>1</td>\n",
       "      <td>999</td>\n",
       "      <td>0</td>\n",
       "      <td>nonexistent</td>\n",
       "      <td>1.1</td>\n",
       "      <td>93.994</td>\n",
       "      <td>-36.4</td>\n",
       "      <td>4.857</td>\n",
       "      <td>5191.0</td>\n",
       "      <td>no</td>\n",
       "    </tr>\n",
       "    <tr>\n",
       "      <th>2</th>\n",
       "      <td>37</td>\n",
       "      <td>services</td>\n",
       "      <td>married</td>\n",
       "      <td>high.school</td>\n",
       "      <td>no</td>\n",
       "      <td>yes</td>\n",
       "      <td>no</td>\n",
       "      <td>telephone</td>\n",
       "      <td>may</td>\n",
       "      <td>mon</td>\n",
       "      <td>...</td>\n",
       "      <td>1</td>\n",
       "      <td>999</td>\n",
       "      <td>0</td>\n",
       "      <td>nonexistent</td>\n",
       "      <td>1.1</td>\n",
       "      <td>93.994</td>\n",
       "      <td>-36.4</td>\n",
       "      <td>4.857</td>\n",
       "      <td>5191.0</td>\n",
       "      <td>no</td>\n",
       "    </tr>\n",
       "    <tr>\n",
       "      <th>3</th>\n",
       "      <td>40</td>\n",
       "      <td>admin.</td>\n",
       "      <td>married</td>\n",
       "      <td>basic.6y</td>\n",
       "      <td>no</td>\n",
       "      <td>no</td>\n",
       "      <td>no</td>\n",
       "      <td>telephone</td>\n",
       "      <td>may</td>\n",
       "      <td>mon</td>\n",
       "      <td>...</td>\n",
       "      <td>1</td>\n",
       "      <td>999</td>\n",
       "      <td>0</td>\n",
       "      <td>nonexistent</td>\n",
       "      <td>1.1</td>\n",
       "      <td>93.994</td>\n",
       "      <td>-36.4</td>\n",
       "      <td>4.857</td>\n",
       "      <td>5191.0</td>\n",
       "      <td>no</td>\n",
       "    </tr>\n",
       "    <tr>\n",
       "      <th>4</th>\n",
       "      <td>56</td>\n",
       "      <td>services</td>\n",
       "      <td>married</td>\n",
       "      <td>high.school</td>\n",
       "      <td>no</td>\n",
       "      <td>no</td>\n",
       "      <td>yes</td>\n",
       "      <td>telephone</td>\n",
       "      <td>may</td>\n",
       "      <td>mon</td>\n",
       "      <td>...</td>\n",
       "      <td>1</td>\n",
       "      <td>999</td>\n",
       "      <td>0</td>\n",
       "      <td>nonexistent</td>\n",
       "      <td>1.1</td>\n",
       "      <td>93.994</td>\n",
       "      <td>-36.4</td>\n",
       "      <td>4.857</td>\n",
       "      <td>5191.0</td>\n",
       "      <td>no</td>\n",
       "    </tr>\n",
       "  </tbody>\n",
       "</table>\n",
       "<p>5 rows × 21 columns</p>\n",
       "</div>"
      ],
      "text/plain": [
       "   age        job  marital    education  default housing loan    contact  \\\n",
       "0   56  housemaid  married     basic.4y       no      no   no  telephone   \n",
       "1   57   services  married  high.school  unknown      no   no  telephone   \n",
       "2   37   services  married  high.school       no     yes   no  telephone   \n",
       "3   40     admin.  married     basic.6y       no      no   no  telephone   \n",
       "4   56   services  married  high.school       no      no  yes  telephone   \n",
       "\n",
       "  month day_of_week  ...  campaign  pdays  previous     poutcome emp.var.rate  \\\n",
       "0   may         mon  ...         1    999         0  nonexistent          1.1   \n",
       "1   may         mon  ...         1    999         0  nonexistent          1.1   \n",
       "2   may         mon  ...         1    999         0  nonexistent          1.1   \n",
       "3   may         mon  ...         1    999         0  nonexistent          1.1   \n",
       "4   may         mon  ...         1    999         0  nonexistent          1.1   \n",
       "\n",
       "   cons.price.idx  cons.conf.idx  euribor3m  nr.employed   y  \n",
       "0          93.994          -36.4      4.857       5191.0  no  \n",
       "1          93.994          -36.4      4.857       5191.0  no  \n",
       "2          93.994          -36.4      4.857       5191.0  no  \n",
       "3          93.994          -36.4      4.857       5191.0  no  \n",
       "4          93.994          -36.4      4.857       5191.0  no  \n",
       "\n",
       "[5 rows x 21 columns]"
      ]
     },
     "execution_count": 154,
     "metadata": {},
     "output_type": "execute_result"
    }
   ],
   "source": [
    "bank.head()"
   ]
  },
  {
   "cell_type": "markdown",
   "metadata": {},
   "source": [
    "### Problem 3: Understanding the Features\n",
    "\n",
    "\n",
    "Examine the data description below, and determine if any of the features are missing values or need to be coerced to a different data type.\n",
    "\n",
    "\n",
    "```\n",
    "Input variables:\n",
    "# bank client data:\n",
    "1 - age (numeric)\n",
    "2 - job : type of job (categorical: 'admin.','blue-collar','entrepreneur','housemaid','management','retired','self-employed','services','student','technician','unemployed','unknown')\n",
    "3 - marital : marital status (categorical: 'divorced','married','single','unknown'; note: 'divorced' means divorced or widowed)\n",
    "4 - education (categorical: 'basic.4y','basic.6y','basic.9y','high.school','illiterate','professional.course','university.degree','unknown')\n",
    "5 - default: has credit in default? (categorical: 'no','yes','unknown')\n",
    "6 - housing: has housing loan? (categorical: 'no','yes','unknown')\n",
    "7 - loan: has personal loan? (categorical: 'no','yes','unknown')\n",
    "# related with the last contact of the current campaign:\n",
    "8 - contact: contact communication type (categorical: 'cellular','telephone')\n",
    "9 - month: last contact month of year (categorical: 'jan', 'feb', 'mar', ..., 'nov', 'dec')\n",
    "10 - day_of_week: last contact day of the week (categorical: 'mon','tue','wed','thu','fri')\n",
    "11 - duration: last contact duration, in seconds (numeric). Important note: this attribute highly affects the output target (e.g., if duration=0 then y='no'). Yet, the duration is not known before a call is performed. Also, after the end of the call y is obviously known. Thus, this input should only be included for benchmark purposes and should be discarded if the intention is to have a realistic predictive model.\n",
    "# other attributes:\n",
    "12 - campaign: number of contacts performed during this campaign and for this client (numeric, includes last contact)\n",
    "13 - pdays: number of days that passed by after the client was last contacted from a previous campaign (numeric; 999 means client was not previously contacted)\n",
    "14 - previous: number of contacts performed before this campaign and for this client (numeric)\n",
    "15 - poutcome: outcome of the previous marketing campaign (categorical: 'failure','nonexistent','success')\n",
    "# social and economic context attributes\n",
    "16 - emp.var.rate: employment variation rate - quarterly indicator (numeric)\n",
    "17 - cons.price.idx: consumer price index - monthly indicator (numeric)\n",
    "18 - cons.conf.idx: consumer confidence index - monthly indicator (numeric)\n",
    "19 - euribor3m: euribor 3 month rate - daily indicator (numeric)\n",
    "20 - nr.employed: number of employees - quarterly indicator (numeric)\n",
    "\n",
    "Output variable (desired target):\n",
    "21 - y - has the client subscribed a term deposit? (binary: 'yes','no')\n",
    "```\n",
    "\n"
   ]
  },
  {
   "cell_type": "code",
   "execution_count": 157,
   "metadata": {},
   "outputs": [],
   "source": [
    "# Data Cleaning Notes\n",
    "\n",
    "# features to drop completely: duration\n",
    "bank = bank.drop('duration', axis=1)\n",
    "\n",
    "# features to remove 'unknown' / 'nonexistent' values to make binary: default, housing, loan, poutcome\n",
    "bank = bank[bank.default != 'unknown']\n",
    "bank = bank[bank.housing != 'unknown']\n",
    "bank = bank[bank.loan != 'unknown']\n",
    "bank = bank[bank.poutcome != 'nonexistent']\n",
    "\n",
    "bank['default'] = bank['default'].astype('category').cat.codes\n",
    "bank['housing'] = bank['housing'].astype('category').cat.codes\n",
    "bank['loan'] = bank['loan'].astype('category').cat.codes\n",
    "bank['poutcome'] = bank['poutcome'].astype('category').cat.codes\n",
    "\n",
    "# categorical features: job, marital, education, contact, month, day_of_week\n",
    "bank['job'] = bank['job'].astype('category').cat.codes\n",
    "bank['marital'] = bank['marital'].astype('category').cat.codes\n",
    "bank['education'] = bank['education'].astype('category').cat.codes\n",
    "bank['contact'] = bank['contact'].astype('category').cat.codes\n",
    "bank['month'] = bank['month'].astype('category').cat.codes\n",
    "bank['day_of_week'] = bank['day_of_week'].astype('category').cat.codes\n",
    "\n",
    "# numeric features: age, campaign, pdays, previous, emp.var.rate, cons.price.idx, cons.conf.idx, euribor3m, nr.employed\n",
    "\n",
    "# convert y column\n",
    "bank['y'] = bank['y'].astype('category').cat.codes"
   ]
  },
  {
   "cell_type": "markdown",
   "metadata": {},
   "source": [
    "### Problem 4: Understanding the Task\n",
    "\n",
    "After examining the description and data, your goal now is to clearly state the *Business Objective* of the task.  State the objective below."
   ]
  },
  {
   "cell_type": "code",
   "execution_count": 160,
   "metadata": {},
   "outputs": [
    {
     "name": "stdout",
     "output_type": "stream",
     "text": [
      "<class 'pandas.core.frame.DataFrame'>\n",
      "Index: 4924 entries, 24013 to 41187\n",
      "Data columns (total 20 columns):\n",
      " #   Column          Non-Null Count  Dtype  \n",
      "---  ------          --------------  -----  \n",
      " 0   age             4924 non-null   int64  \n",
      " 1   job             4924 non-null   int8   \n",
      " 2   marital         4924 non-null   int8   \n",
      " 3   education       4924 non-null   int8   \n",
      " 4   default         4924 non-null   int8   \n",
      " 5   housing         4924 non-null   int8   \n",
      " 6   loan            4924 non-null   int8   \n",
      " 7   contact         4924 non-null   int8   \n",
      " 8   month           4924 non-null   int8   \n",
      " 9   day_of_week     4924 non-null   int8   \n",
      " 10  campaign        4924 non-null   int64  \n",
      " 11  pdays           4924 non-null   int64  \n",
      " 12  previous        4924 non-null   int64  \n",
      " 13  poutcome        4924 non-null   int8   \n",
      " 14  emp.var.rate    4924 non-null   float64\n",
      " 15  cons.price.idx  4924 non-null   float64\n",
      " 16  cons.conf.idx   4924 non-null   float64\n",
      " 17  euribor3m       4924 non-null   float64\n",
      " 18  nr.employed     4924 non-null   float64\n",
      " 19  y               4924 non-null   int8   \n",
      "dtypes: float64(5), int64(4), int8(11)\n",
      "memory usage: 437.6 KB\n"
     ]
    }
   ],
   "source": [
    "bank.info()"
   ]
  },
  {
   "cell_type": "markdown",
   "metadata": {},
   "source": [
    "### The business objective of the task is to extract from the data the most important features that lead to successful campaign results. The results of such analysis will help lead to more dedicated campaign efforts in the future in efforts of improving campaign results and reducing required resources for success."
   ]
  },
  {
   "cell_type": "code",
   "execution_count": null,
   "metadata": {},
   "outputs": [],
   "source": []
  },
  {
   "cell_type": "markdown",
   "metadata": {},
   "source": [
    "### Problem 5: Engineering Features\n",
    "\n",
    "Now that you understand your business objective, we will build a basic model to get started.  Before we can do this, we must work to encode the data.  Using just the bank information features, prepare the features and target column for modeling with appropriate encoding and transformations."
   ]
  },
  {
   "cell_type": "code",
   "execution_count": 165,
   "metadata": {},
   "outputs": [],
   "source": [
    "# Set X, y"
   ]
  },
  {
   "cell_type": "code",
   "execution_count": 167,
   "metadata": {},
   "outputs": [],
   "source": [
    "X = bank.iloc[:,:-1] \n",
    "y = bank['y']"
   ]
  },
  {
   "cell_type": "code",
   "execution_count": null,
   "metadata": {},
   "outputs": [],
   "source": []
  },
  {
   "cell_type": "markdown",
   "metadata": {},
   "source": [
    "### Problem 6: Train/Test Split\n",
    "\n",
    "With your data prepared, split it into a train and test set."
   ]
  },
  {
   "cell_type": "code",
   "execution_count": 171,
   "metadata": {},
   "outputs": [],
   "source": [
    "# Split test and train data"
   ]
  },
  {
   "cell_type": "code",
   "execution_count": 173,
   "metadata": {},
   "outputs": [],
   "source": [
    "X_train, X_test, y_train, y_test = train_test_split(X, y, \n",
    "                                                   random_state = 42)"
   ]
  },
  {
   "cell_type": "code",
   "execution_count": null,
   "metadata": {},
   "outputs": [],
   "source": []
  },
  {
   "cell_type": "markdown",
   "metadata": {},
   "source": [
    "### Problem 7: A Baseline Model\n",
    "\n",
    "Before we build our first model, we want to establish a baseline.  What is the baseline performance that our classifier should aim to beat?"
   ]
  },
  {
   "cell_type": "code",
   "execution_count": null,
   "metadata": {},
   "outputs": [],
   "source": []
  },
  {
   "cell_type": "code",
   "execution_count": null,
   "metadata": {},
   "outputs": [],
   "source": []
  },
  {
   "cell_type": "code",
   "execution_count": null,
   "metadata": {},
   "outputs": [],
   "source": []
  },
  {
   "cell_type": "markdown",
   "metadata": {},
   "source": [
    "### Problem 8: A Simple Model\n",
    "\n",
    "Use Logistic Regression to build a basic model on your data.  "
   ]
  },
  {
   "cell_type": "code",
   "execution_count": 181,
   "metadata": {},
   "outputs": [
    {
     "name": "stdout",
     "output_type": "stream",
     "text": [
      "Logistic Regression Train Score: 0.18792309775250474\n",
      "Logistic Regression Test Score: 0.1803411860276198\n",
      "Logistic Regression Fit Time: 0.09288191795349121\n"
     ]
    },
    {
     "name": "stderr",
     "output_type": "stream",
     "text": [
      "/opt/anaconda3/lib/python3.11/site-packages/sklearn/linear_model/_logistic.py:458: ConvergenceWarning: lbfgs failed to converge (status=1):\n",
      "STOP: TOTAL NO. of ITERATIONS REACHED LIMIT.\n",
      "\n",
      "Increase the number of iterations (max_iter) or scale the data as shown in:\n",
      "    https://scikit-learn.org/stable/modules/preprocessing.html\n",
      "Please also refer to the documentation for alternative solver options:\n",
      "    https://scikit-learn.org/stable/modules/linear_model.html#logistic-regression\n",
      "  n_iter_i = _check_optimize_result(\n"
     ]
    }
   ],
   "source": [
    "# Logistic Regression\n",
    "\n",
    "# Initialize model\n",
    "logreg = LogisticRegression(random_state=16)\n",
    "\n",
    "# Fit the model and measure time\n",
    "start_time = time.time()\n",
    "logreg.fit(X_train, y_train)\n",
    "logreg_fit_time = time.time() - start_time\n",
    "\n",
    "# Make predictions\n",
    "y_train_pred = logreg.predict(X_train)\n",
    "y_test_pred = logreg.predict(X_test)\n",
    "\n",
    "# Calculate train and test scores\n",
    "logreg_train_score = mean_squared_error(y_train, y_train_pred)\n",
    "logreg_test_score = mean_squared_error(y_test, y_test_pred)\n",
    "\n",
    "print(\"Logistic Regression Train Score:\", logreg_train_score)\n",
    "print(\"Logistic Regression Test Score:\", logreg_test_score)\n",
    "print(\"Logistic Regression Fit Time:\", logreg_fit_time)"
   ]
  },
  {
   "cell_type": "markdown",
   "metadata": {},
   "source": [
    "### Problem 9: Score the Model\n",
    "\n",
    "What is the accuracy of your model?"
   ]
  },
  {
   "cell_type": "markdown",
   "metadata": {},
   "source": [
    "### The baseline model has a train accuracy of 0.18792309775250474 and a test accuracy of 0.1803411860276198."
   ]
  },
  {
   "cell_type": "markdown",
   "metadata": {},
   "source": [
    "### Problem 10: Model Comparisons\n",
    "\n",
    "Now, we aim to compare the performance of the Logistic Regression model to our KNN algorithm, Decision Tree, and SVM models.  Using the default settings for each of the models, fit and score each.  Also, be sure to compare the fit time of each of the models.  Present your findings in a `DataFrame` similar to that below:\n",
    "\n",
    "| Model | Train Time | Train Accuracy | Test Accuracy |\n",
    "| ----- | ---------- | -------------  | -----------   |\n",
    "|     |    |.     |.     |"
   ]
  },
  {
   "cell_type": "code",
   "execution_count": 186,
   "metadata": {},
   "outputs": [
    {
     "name": "stdout",
     "output_type": "stream",
     "text": [
      "Dec Tree 2 Train Score: 0.18981857568372598\n",
      "Dec Tree 2 Test Score: 0.1803411860276198\n",
      "Dec Tree 2 Fit Time: 0.005921840667724609\n",
      "Dec Tree 0 Train Score: 0.0013539128080151638\n",
      "Dec Tree 0 Test Score: 0.25832656376929325\n",
      "Dec Tree 0 Fit Time: 0.017678022384643555\n"
     ]
    }
   ],
   "source": [
    "# Decision Tree\n",
    "tree_depth_2 = DecisionTreeClassifier(max_depth=2).fit(X, y)\n",
    "\n",
    "# Fit the model and measure time\n",
    "start_time = time.time()\n",
    "tree_depth_2.fit(X_train, y_train)\n",
    "dectree2_fit_time = time.time() - start_time\n",
    "\n",
    "# Make predictions\n",
    "y_train_pred = tree_depth_2.predict(X_train)\n",
    "y_test_pred = tree_depth_2.predict(X_test)\n",
    "\n",
    "# Calculate train and test scores\n",
    "dectree2_train_score = mean_squared_error(y_train, y_train_pred)\n",
    "dectree2_test_score = mean_squared_error(y_test, y_test_pred)\n",
    "\n",
    "print(\"Dec Tree 2 Train Score:\", dectree2_train_score)\n",
    "print(\"Dec Tree 2 Test Score:\", dectree2_test_score)\n",
    "print(\"Dec Tree 2 Fit Time:\", dectree2_fit_time)\n",
    "\n",
    "tree_depth_none = DecisionTreeClassifier(max_depth=None).fit(X, y)\n",
    "\n",
    "# Fit the model and measure time\n",
    "start_time = time.time()\n",
    "tree_depth_none.fit(X_train, y_train)\n",
    "dectree0_fit_time = time.time() - start_time\n",
    "\n",
    "# Make predictions\n",
    "y_train_pred = tree_depth_none.predict(X_train)\n",
    "y_test_pred = tree_depth_none.predict(X_test)\n",
    "\n",
    "# Calculate train and test scores\n",
    "dectree0_train_score = mean_squared_error(y_train, y_train_pred)\n",
    "dectree0_test_score = mean_squared_error(y_test, y_test_pred)\n",
    "\n",
    "print(\"Dec Tree 0 Train Score:\", dectree0_train_score)\n",
    "print(\"Dec Tree 0 Test Score:\", dectree0_test_score)\n",
    "print(\"Dec Tree 0 Fit Time:\", dectree0_fit_time)"
   ]
  },
  {
   "cell_type": "code",
   "execution_count": 188,
   "metadata": {},
   "outputs": [
    {
     "name": "stdout",
     "output_type": "stream",
     "text": [
      "KNN 1 Train Score: 0.0013539128080151638\n",
      "KNN 1 Test Score: 0.255889520714866\n",
      "KNN 1 Fit Time: 0.006979942321777344\n",
      "KNN 5 Train Score: 0.15217979962090442\n",
      "KNN 5 Test Score: 0.20471161657189277\n",
      "KNN 5 Fit Time: 0.005349159240722656\n"
     ]
    }
   ],
   "source": [
    "# KNN\n",
    "knn_pipe_1 = Pipeline([('scale', StandardScaler()), \n",
    "                      ('model', KNeighborsClassifier(n_neighbors=1))]).fit(X, y)\n",
    "\n",
    "# Fit the model and measure time\n",
    "start_time = time.time()\n",
    "knn_pipe_1.fit(X_train, y_train)\n",
    "knn1_fit_time = time.time() - start_time\n",
    "\n",
    "# Make predictions\n",
    "y_train_pred = knn_pipe_1.predict(X_train)\n",
    "y_test_pred = knn_pipe_1.predict(X_test)\n",
    "\n",
    "# Calculate train and test scores\n",
    "knn1_train_score = mean_squared_error(y_train, y_train_pred)\n",
    "knn1_test_score = mean_squared_error(y_test, y_test_pred)\n",
    "\n",
    "print(\"KNN 1 Train Score:\", knn1_train_score)\n",
    "print(\"KNN 1 Test Score:\", knn1_test_score)\n",
    "print(\"KNN 1 Fit Time:\", knn1_fit_time)\n",
    "\n",
    "knn_pipe_5 = Pipeline([('scale', StandardScaler()), \n",
    "                      ('model', KNeighborsClassifier(n_neighbors=5))]).fit(X, y)\n",
    "\n",
    "# Fit the model and measure time\n",
    "start_time = time.time()\n",
    "knn_pipe_5.fit(X_train, y_train)\n",
    "knn5_fit_time = time.time() - start_time\n",
    "\n",
    "# Make predictions\n",
    "y_train_pred = knn_pipe_5.predict(X_train)\n",
    "y_test_pred = knn_pipe_5.predict(X_test)\n",
    "\n",
    "# Calculate train and test scores\n",
    "knn5_train_score = mean_squared_error(y_train, y_train_pred)\n",
    "knn5_test_score = mean_squared_error(y_test, y_test_pred)\n",
    "\n",
    "print(\"KNN 5 Train Score:\", knn5_train_score)\n",
    "print(\"KNN 5 Test Score:\", knn5_test_score)\n",
    "print(\"KNN 5 Fit Time:\", knn5_fit_time)"
   ]
  },
  {
   "cell_type": "code",
   "execution_count": 190,
   "metadata": {},
   "outputs": [
    {
     "name": "stdout",
     "output_type": "stream",
     "text": [
      "SVC Train Score: 0.20417005144868672\n",
      "SVC Test Score: 0.1917140536149472\n",
      "SVC Fit Time: 0.1213831901550293\n"
     ]
    }
   ],
   "source": [
    "# SVM\n",
    "svc = SVC().fit(X_train, y_train)\n",
    "svc_defaults = svc.score(X_test, y_test)\n",
    "\n",
    "# Fit the model and measure time\n",
    "start_time = time.time()\n",
    "svc.fit(X_train, y_train)\n",
    "svc_fit_time = time.time() - start_time\n",
    "\n",
    "# Make predictions\n",
    "y_train_pred = svc.predict(X_train)\n",
    "y_test_pred = svc.predict(X_test)\n",
    "\n",
    "# Calculate train and test scores\n",
    "svc_train_score = mean_squared_error(y_train, y_train_pred)\n",
    "svc_test_score = mean_squared_error(y_test, y_test_pred)\n",
    "\n",
    "print(\"SVC Train Score:\", svc_train_score)\n",
    "print(\"SVC Test Score:\", svc_test_score)\n",
    "print(\"SVC Fit Time:\", svc_fit_time)"
   ]
  },
  {
   "cell_type": "code",
   "execution_count": 192,
   "metadata": {},
   "outputs": [
    {
     "data": {
      "text/html": [
       "<div>\n",
       "<style scoped>\n",
       "    .dataframe tbody tr th:only-of-type {\n",
       "        vertical-align: middle;\n",
       "    }\n",
       "\n",
       "    .dataframe tbody tr th {\n",
       "        vertical-align: top;\n",
       "    }\n",
       "\n",
       "    .dataframe thead th {\n",
       "        text-align: right;\n",
       "    }\n",
       "</style>\n",
       "<table border=\"1\" class=\"dataframe\">\n",
       "  <thead>\n",
       "    <tr style=\"text-align: right;\">\n",
       "      <th></th>\n",
       "      <th>Model</th>\n",
       "      <th>Train Time</th>\n",
       "      <th>Train Accuracy</th>\n",
       "      <th>Test Accuracy</th>\n",
       "    </tr>\n",
       "  </thead>\n",
       "  <tbody>\n",
       "    <tr>\n",
       "      <th>0</th>\n",
       "      <td>LogisticRegression</td>\n",
       "      <td>0.092882</td>\n",
       "      <td>0.187923</td>\n",
       "      <td>0.180341</td>\n",
       "    </tr>\n",
       "    <tr>\n",
       "      <th>1</th>\n",
       "      <td>DecisionTree</td>\n",
       "      <td>0.005922</td>\n",
       "      <td>0.189819</td>\n",
       "      <td>0.180341</td>\n",
       "    </tr>\n",
       "    <tr>\n",
       "      <th>2</th>\n",
       "      <td>KNN</td>\n",
       "      <td>0.005349</td>\n",
       "      <td>0.152180</td>\n",
       "      <td>0.204712</td>\n",
       "    </tr>\n",
       "    <tr>\n",
       "      <th>3</th>\n",
       "      <td>SVM</td>\n",
       "      <td>0.121383</td>\n",
       "      <td>0.204170</td>\n",
       "      <td>0.191714</td>\n",
       "    </tr>\n",
       "  </tbody>\n",
       "</table>\n",
       "</div>"
      ],
      "text/plain": [
       "                Model  Train Time  Train Accuracy  Test Accuracy\n",
       "0  LogisticRegression    0.092882        0.187923       0.180341\n",
       "1        DecisionTree    0.005922        0.189819       0.180341\n",
       "2                 KNN    0.005349        0.152180       0.204712\n",
       "3                 SVM    0.121383        0.204170       0.191714"
      ]
     },
     "execution_count": 192,
     "metadata": {},
     "output_type": "execute_result"
    }
   ],
   "source": [
    "# Create lists for scores data frame\n",
    "model_names = [\"LogisticRegression\", \"DecisionTree\", \"KNN\", \"SVM\"]\n",
    "train_times = [logreg_fit_time, dectree2_fit_time, knn5_fit_time, svc_fit_time]\n",
    "train_accuracies = [logreg_train_score, dectree2_train_score, knn5_train_score, svc_train_score]\n",
    "test_accuracies = [logreg_test_score, dectree2_test_score, knn5_test_score, svc_test_score]\n",
    "\n",
    "# Add to dataframe\n",
    "model_scores = pd.DataFrame(list(zip(model_names, train_times, train_accuracies, test_accuracies)),\n",
    "              columns=['Model','Train Time', 'Train Accuracy', 'Test Accuracy'])\n",
    "model_scores.head(4)"
   ]
  },
  {
   "cell_type": "markdown",
   "metadata": {},
   "source": [
    "### Problem 11: Improving the Model\n",
    "\n",
    "Now that we have some basic models on the board, we want to try to improve these.  Below, we list a few things to explore in this pursuit.\n",
    "\n",
    "- More feature engineering and exploration.  For example, should we keep the gender feature?  Why or why not?\n",
    "- Hyperparameter tuning and grid search.  All of our models have additional hyperparameters to tune and explore.  For example the number of neighbors in KNN or the maximum depth of a Decision Tree.  \n",
    "- Adjust your performance metric"
   ]
  },
  {
   "cell_type": "code",
   "execution_count": 201,
   "metadata": {},
   "outputs": [
    {
     "name": "stderr",
     "output_type": "stream",
     "text": [
      "/opt/anaconda3/lib/python3.11/site-packages/sklearn/linear_model/_logistic.py:458: ConvergenceWarning: lbfgs failed to converge (status=1):\n",
      "STOP: TOTAL NO. of ITERATIONS REACHED LIMIT.\n",
      "\n",
      "Increase the number of iterations (max_iter) or scale the data as shown in:\n",
      "    https://scikit-learn.org/stable/modules/preprocessing.html\n",
      "Please also refer to the documentation for alternative solver options:\n",
      "    https://scikit-learn.org/stable/modules/linear_model.html#logistic-regression\n",
      "  n_iter_i = _check_optimize_result(\n",
      "/opt/anaconda3/lib/python3.11/site-packages/sklearn/linear_model/_logistic.py:458: ConvergenceWarning: lbfgs failed to converge (status=1):\n",
      "STOP: TOTAL NO. of ITERATIONS REACHED LIMIT.\n",
      "\n",
      "Increase the number of iterations (max_iter) or scale the data as shown in:\n",
      "    https://scikit-learn.org/stable/modules/preprocessing.html\n",
      "Please also refer to the documentation for alternative solver options:\n",
      "    https://scikit-learn.org/stable/modules/linear_model.html#logistic-regression\n",
      "  n_iter_i = _check_optimize_result(\n",
      "/opt/anaconda3/lib/python3.11/site-packages/sklearn/linear_model/_logistic.py:458: ConvergenceWarning: lbfgs failed to converge (status=1):\n",
      "STOP: TOTAL NO. of ITERATIONS REACHED LIMIT.\n",
      "\n",
      "Increase the number of iterations (max_iter) or scale the data as shown in:\n",
      "    https://scikit-learn.org/stable/modules/preprocessing.html\n",
      "Please also refer to the documentation for alternative solver options:\n",
      "    https://scikit-learn.org/stable/modules/linear_model.html#logistic-regression\n",
      "  n_iter_i = _check_optimize_result(\n"
     ]
    }
   ],
   "source": [
    "# Try removing the age feature\n",
    "bank_dropage = bank.drop('age', axis=1)\n",
    "\n",
    "X = bank_dropage.iloc[:,:-1] \n",
    "y = bank_dropage['y']\n",
    "\n",
    "X_train, X_test, y_train, y_test = train_test_split(X, y, \n",
    "                                                   random_state = 42)\n",
    "# Initialize model\n",
    "logreg_dropage = LogisticRegression(random_state=16)\n",
    "\n",
    "# Fit the model and measure time\n",
    "start_time = time.time()\n",
    "logreg_dropage.fit(X_train, y_train)\n",
    "logreg__dropage_fit_time = time.time() - start_time\n",
    "\n",
    "# Make predictions\n",
    "y_train_pred = logreg_dropage.predict(X_train)\n",
    "y_test_pred = logreg_dropage.predict(X_test)\n",
    "\n",
    "# Calculate train and test scores\n",
    "logreg_dropage_train_score = mean_squared_error(y_train, y_train_pred)\n",
    "logreg_dropage_test_score = mean_squared_error(y_test, y_test_pred)\n",
    "\n",
    "# Try removing the job feature\n",
    "bank_dropjob = bank.drop('job', axis=1)\n",
    "\n",
    "X = bank_dropjob.iloc[:,:-1] \n",
    "y = bank_dropjob['y']\n",
    "\n",
    "X_train, X_test, y_train, y_test = train_test_split(X, y, \n",
    "                                                   random_state = 42)\n",
    "# Initialize model\n",
    "logreg_dropjob = LogisticRegression(random_state=16)\n",
    "\n",
    "# Fit the model and measure time\n",
    "start_time = time.time()\n",
    "logreg_dropjob.fit(X_train, y_train)\n",
    "logreg__dropjob_fit_time = time.time() - start_time\n",
    "\n",
    "# Make predictions\n",
    "y_train_pred = logreg_dropjob.predict(X_train)\n",
    "y_test_pred = logreg_dropjob.predict(X_test)\n",
    "\n",
    "# Calculate train and test scores\n",
    "logreg_dropjob_train_score = mean_squared_error(y_train, y_train_pred)\n",
    "logreg_dropjob_test_score = mean_squared_error(y_test, y_test_pred)\n",
    "\n",
    "# Try removing the marital feature\n",
    "bank_dropmarital = bank.drop('marital', axis=1)\n",
    "\n",
    "X = bank_dropmarital.iloc[:,:-1] \n",
    "y = bank_dropmarital['y']\n",
    "\n",
    "X_train, X_test, y_train, y_test = train_test_split(X, y, \n",
    "                                                   random_state = 42)\n",
    "# Initialize model\n",
    "logreg_dropmarital = LogisticRegression(random_state=16)\n",
    "\n",
    "# Fit the model and measure time\n",
    "start_time = time.time()\n",
    "logreg_dropmarital.fit(X_train, y_train)\n",
    "logreg__dropmarital_fit_time = time.time() - start_time\n",
    "\n",
    "# Make predictions\n",
    "y_train_pred = logreg_dropmarital.predict(X_train)\n",
    "y_test_pred = logreg_dropmarital.predict(X_test)\n",
    "\n",
    "# Calculate train and test scores\n",
    "logreg_dropmarital_train_score = mean_squared_error(y_train, y_train_pred)\n",
    "logreg_dropmarital_test_score = mean_squared_error(y_test, y_test_pred)"
   ]
  },
  {
   "cell_type": "code",
   "execution_count": 203,
   "metadata": {},
   "outputs": [
    {
     "data": {
      "text/html": [
       "<div>\n",
       "<style scoped>\n",
       "    .dataframe tbody tr th:only-of-type {\n",
       "        vertical-align: middle;\n",
       "    }\n",
       "\n",
       "    .dataframe tbody tr th {\n",
       "        vertical-align: top;\n",
       "    }\n",
       "\n",
       "    .dataframe thead th {\n",
       "        text-align: right;\n",
       "    }\n",
       "</style>\n",
       "<table border=\"1\" class=\"dataframe\">\n",
       "  <thead>\n",
       "    <tr style=\"text-align: right;\">\n",
       "      <th></th>\n",
       "      <th>Model</th>\n",
       "      <th>Train Time</th>\n",
       "      <th>Train Accuracy</th>\n",
       "      <th>Test Accuracy</th>\n",
       "    </tr>\n",
       "  </thead>\n",
       "  <tbody>\n",
       "    <tr>\n",
       "      <th>0</th>\n",
       "      <td>All Features</td>\n",
       "      <td>0.092882</td>\n",
       "      <td>0.187923</td>\n",
       "      <td>0.180341</td>\n",
       "    </tr>\n",
       "    <tr>\n",
       "      <th>1</th>\n",
       "      <td>Drop Age</td>\n",
       "      <td>0.069810</td>\n",
       "      <td>0.191172</td>\n",
       "      <td>0.178716</td>\n",
       "    </tr>\n",
       "    <tr>\n",
       "      <th>2</th>\n",
       "      <td>Drop Job</td>\n",
       "      <td>0.019918</td>\n",
       "      <td>0.190360</td>\n",
       "      <td>0.190360</td>\n",
       "    </tr>\n",
       "    <tr>\n",
       "      <th>3</th>\n",
       "      <td>Drop Marital</td>\n",
       "      <td>0.024519</td>\n",
       "      <td>0.187923</td>\n",
       "      <td>0.187923</td>\n",
       "    </tr>\n",
       "  </tbody>\n",
       "</table>\n",
       "</div>"
      ],
      "text/plain": [
       "          Model  Train Time  Train Accuracy  Test Accuracy\n",
       "0  All Features    0.092882        0.187923       0.180341\n",
       "1      Drop Age    0.069810        0.191172       0.178716\n",
       "2      Drop Job    0.019918        0.190360       0.190360\n",
       "3  Drop Marital    0.024519        0.187923       0.187923"
      ]
     },
     "execution_count": 203,
     "metadata": {},
     "output_type": "execute_result"
    }
   ],
   "source": [
    "# Create lists for scores data frame\n",
    "linreg_model_names = [\"All Features\", \"Drop Age\", \"Drop Job\", \"Drop Marital\"]\n",
    "linreg_train_times = [logreg_fit_time, logreg__dropage_fit_time, logreg__dropjob_fit_time, logreg__dropmarital_fit_time]\n",
    "linreg_train_accuracies = [logreg_train_score, logreg_dropage_train_score, logreg_dropjob_train_score, logreg_dropmarital_train_score]\n",
    "linreg_test_accuracies = [logreg_test_score, logreg_dropage_test_score, logreg_dropjob_train_score, logreg_dropmarital_train_score]\n",
    "\n",
    "# Add to dataframe\n",
    "linreg_scores = pd.DataFrame(list(zip(linreg_model_names, linreg_train_times, linreg_train_accuracies, linreg_test_accuracies)),\n",
    "              columns=['Model','Train Time', 'Train Accuracy', 'Test Accuracy'])\n",
    "linreg_scores.head(4)"
   ]
  },
  {
   "cell_type": "markdown",
   "metadata": {},
   "source": [
    "### Based on the above comparison, it looks like dropping the job and marital features help for training the model. By dropping each of these features, we decrease the training time to fit the logistic regression model while either improving or keeping the same the train and test accuracies. However, we see that dropping the age feature while still improving training time to fit the logistic regression model, reduces test accuracy.\n",
    "\n",
    "### From this comparison, we can gauge that the age feature is more important than the job and marital features. From this, we can determine that the age feature should be kept while the job and marital features are good options of features to drop from the data to improve the overall training time and performance of the model."
   ]
  },
  {
   "cell_type": "code",
   "execution_count": 209,
   "metadata": {},
   "outputs": [],
   "source": [
    "# Explore different number of neighbors for KNN\n",
    "\n",
    "# KNN\n",
    "knn_pipe_10 = Pipeline([('scale', StandardScaler()), \n",
    "                      ('model', KNeighborsClassifier(n_neighbors=10))]).fit(X, y)\n",
    "\n",
    "# Fit the model and measure time\n",
    "start_time = time.time()\n",
    "knn_pipe_10.fit(X_train, y_train)\n",
    "knn10_fit_time = time.time() - start_time\n",
    "\n",
    "# Make predictions\n",
    "y_train_pred = knn_pipe_10.predict(X_train)\n",
    "y_test_pred = knn_pipe_10.predict(X_test)\n",
    "\n",
    "# Calculate train and test scores\n",
    "knn10_train_score = mean_squared_error(y_train, y_train_pred)\n",
    "knn10_test_score = mean_squared_error(y_test, y_test_pred)\n",
    "\n",
    "knn_pipe_15 = Pipeline([('scale', StandardScaler()), \n",
    "                      ('model', KNeighborsClassifier(n_neighbors=15))]).fit(X, y)\n",
    "\n",
    "# Fit the model and measure time\n",
    "start_time = time.time()\n",
    "knn_pipe_15.fit(X_train, y_train)\n",
    "knn15_fit_time = time.time() - start_time\n",
    "\n",
    "# Make predictions\n",
    "y_train_pred = knn_pipe_15.predict(X_train)\n",
    "y_test_pred = knn_pipe_15.predict(X_test)\n",
    "\n",
    "# Calculate train and test scores\n",
    "knn15_train_score = mean_squared_error(y_train, y_train_pred)\n",
    "knn15_test_score = mean_squared_error(y_test, y_test_pred)"
   ]
  },
  {
   "cell_type": "code",
   "execution_count": 211,
   "metadata": {},
   "outputs": [
    {
     "data": {
      "text/html": [
       "<div>\n",
       "<style scoped>\n",
       "    .dataframe tbody tr th:only-of-type {\n",
       "        vertical-align: middle;\n",
       "    }\n",
       "\n",
       "    .dataframe tbody tr th {\n",
       "        vertical-align: top;\n",
       "    }\n",
       "\n",
       "    .dataframe thead th {\n",
       "        text-align: right;\n",
       "    }\n",
       "</style>\n",
       "<table border=\"1\" class=\"dataframe\">\n",
       "  <thead>\n",
       "    <tr style=\"text-align: right;\">\n",
       "      <th></th>\n",
       "      <th>Model</th>\n",
       "      <th>Train Time</th>\n",
       "      <th>Train Accuracy</th>\n",
       "      <th>Test Accuracy</th>\n",
       "    </tr>\n",
       "  </thead>\n",
       "  <tbody>\n",
       "    <tr>\n",
       "      <th>0</th>\n",
       "      <td>5 Nearest Neighbors</td>\n",
       "      <td>0.005349</td>\n",
       "      <td>0.152180</td>\n",
       "      <td>0.204712</td>\n",
       "    </tr>\n",
       "    <tr>\n",
       "      <th>1</th>\n",
       "      <td>10 Nearest Neighbors</td>\n",
       "      <td>0.004958</td>\n",
       "      <td>0.172759</td>\n",
       "      <td>0.189277</td>\n",
       "    </tr>\n",
       "    <tr>\n",
       "      <th>2</th>\n",
       "      <td>15 Nearest Neighbors</td>\n",
       "      <td>0.001366</td>\n",
       "      <td>0.178716</td>\n",
       "      <td>0.193339</td>\n",
       "    </tr>\n",
       "  </tbody>\n",
       "</table>\n",
       "</div>"
      ],
      "text/plain": [
       "                  Model  Train Time  Train Accuracy  Test Accuracy\n",
       "0   5 Nearest Neighbors    0.005349        0.152180       0.204712\n",
       "1  10 Nearest Neighbors    0.004958        0.172759       0.189277\n",
       "2  15 Nearest Neighbors    0.001366        0.178716       0.193339"
      ]
     },
     "execution_count": 211,
     "metadata": {},
     "output_type": "execute_result"
    }
   ],
   "source": [
    "# Create lists for scores data frame\n",
    "knn_model_names = [\"5 Nearest Neighbors\", \"10 Nearest Neighbors\", \"15 Nearest Neighbors\"]\n",
    "knn_train_times = [knn5_fit_time, knn10_fit_time, knn15_fit_time]\n",
    "knn_train_accuracies = [knn5_train_score, knn10_train_score, knn15_train_score]\n",
    "knn_test_accuracies = [knn5_test_score, knn10_test_score, knn15_test_score]\n",
    "\n",
    "# Add to dataframe\n",
    "knn_scores = pd.DataFrame(list(zip(knn_model_names, knn_train_times, knn_train_accuracies, knn_test_accuracies)),\n",
    "              columns=['Model','Train Time', 'Train Accuracy', 'Test Accuracy'])\n",
    "knn_scores.head(4)"
   ]
  },
  {
   "cell_type": "markdown",
   "metadata": {},
   "source": [
    "### Based on the above comparison betwen 5, 10 and 15 nearest neighbors, we can see that the train times improve as we increase the number of neighbors. The train accuracies improve as we increase the number of neighbors as well. However, we see the best test accuracy is for only 5 neighbors. This leads to some interested tradeoff decisions. While we can increase number of neighbors to improve the train time and train accuracy, this needs to be weighed against the tradeoff of decrease in test accuracy.\n",
    "\n",
    "### My recommendation here is to keep the number of neighbors at 5, as this provides the best test accuracy while only increasing the model fitting time by milliseconds."
   ]
  },
  {
   "cell_type": "code",
   "execution_count": 215,
   "metadata": {},
   "outputs": [],
   "source": [
    "# Exlore different max depth for Decision Tree\n",
    "tree_depth_5 = DecisionTreeClassifier(max_depth=5).fit(X, y)\n",
    "\n",
    "# Fit the model and measure time\n",
    "start_time = time.time()\n",
    "tree_depth_5.fit(X_train, y_train)\n",
    "dectree5_fit_time = time.time() - start_time\n",
    "\n",
    "# Make predictions\n",
    "y_train_pred = tree_depth_5.predict(X_train)\n",
    "y_test_pred = tree_depth_5.predict(X_test)\n",
    "\n",
    "# Calculate train and test scores\n",
    "dectree5_train_score = mean_squared_error(y_train, y_train_pred)\n",
    "dectree5_test_score = mean_squared_error(y_test, y_test_pred)\n",
    "\n",
    "tree_depth_10 = DecisionTreeClassifier(max_depth=10).fit(X, y)\n",
    "\n",
    "# Fit the model and measure time\n",
    "start_time = time.time()\n",
    "tree_depth_10.fit(X_train, y_train)\n",
    "dectree10_fit_time = time.time() - start_time\n",
    "\n",
    "# Make predictions\n",
    "y_train_pred = tree_depth_10.predict(X_train)\n",
    "y_test_pred = tree_depth_10.predict(X_test)\n",
    "\n",
    "# Calculate train and test scores\n",
    "dectree10_train_score = mean_squared_error(y_train, y_train_pred)\n",
    "dectree10_test_score = mean_squared_error(y_test, y_test_pred)"
   ]
  },
  {
   "cell_type": "code",
   "execution_count": 221,
   "metadata": {},
   "outputs": [
    {
     "data": {
      "text/html": [
       "<div>\n",
       "<style scoped>\n",
       "    .dataframe tbody tr th:only-of-type {\n",
       "        vertical-align: middle;\n",
       "    }\n",
       "\n",
       "    .dataframe tbody tr th {\n",
       "        vertical-align: top;\n",
       "    }\n",
       "\n",
       "    .dataframe thead th {\n",
       "        text-align: right;\n",
       "    }\n",
       "</style>\n",
       "<table border=\"1\" class=\"dataframe\">\n",
       "  <thead>\n",
       "    <tr style=\"text-align: right;\">\n",
       "      <th></th>\n",
       "      <th>Model</th>\n",
       "      <th>Train Time</th>\n",
       "      <th>Train Accuracy</th>\n",
       "      <th>Test Accuracy</th>\n",
       "    </tr>\n",
       "  </thead>\n",
       "  <tbody>\n",
       "    <tr>\n",
       "      <th>0</th>\n",
       "      <td>Depth 2</td>\n",
       "      <td>0.005922</td>\n",
       "      <td>0.189819</td>\n",
       "      <td>0.180341</td>\n",
       "    </tr>\n",
       "    <tr>\n",
       "      <th>1</th>\n",
       "      <td>Depth 5</td>\n",
       "      <td>0.009696</td>\n",
       "      <td>0.175196</td>\n",
       "      <td>0.190089</td>\n",
       "    </tr>\n",
       "    <tr>\n",
       "      <th>2</th>\n",
       "      <td>Depth 10</td>\n",
       "      <td>0.009632</td>\n",
       "      <td>0.108855</td>\n",
       "      <td>0.216897</td>\n",
       "    </tr>\n",
       "  </tbody>\n",
       "</table>\n",
       "</div>"
      ],
      "text/plain": [
       "      Model  Train Time  Train Accuracy  Test Accuracy\n",
       "0   Depth 2    0.005922        0.189819       0.180341\n",
       "1   Depth 5    0.009696        0.175196       0.190089\n",
       "2  Depth 10    0.009632        0.108855       0.216897"
      ]
     },
     "execution_count": 221,
     "metadata": {},
     "output_type": "execute_result"
    }
   ],
   "source": [
    "# Create lists for scores data frame\n",
    "dectree_model_names = [\"Depth 2\", \"Depth 5\", \"Depth 10\"]\n",
    "dectree_train_times = [dectree2_fit_time, dectree5_fit_time, dectree10_fit_time]\n",
    "dectree_train_accuracies = [dectree2_train_score, dectree5_train_score, dectree10_train_score]\n",
    "dectree_test_accuracies = [dectree2_test_score, dectree5_test_score, dectree10_test_score]\n",
    "\n",
    "# Add to dataframe\n",
    "dectree_scores = pd.DataFrame(list(zip(dectree_model_names, dectree_train_times, dectree_train_accuracies, dectree_test_accuracies)),\n",
    "              columns=['Model','Train Time', 'Train Accuracy', 'Test Accuracy'])\n",
    "dectree_scores.head(4)"
   ]
  },
  {
   "cell_type": "markdown",
   "metadata": {},
   "source": [
    "### In comparing different depths for decision tree models, we have another tradeoff to consider. It appears test accuracy improves as depth increases. However, train time also increases and train accuracy decreases as we increase depth.\n",
    "\n",
    "### My recommendation here would be to continue trying higher depth values. If higher depths continue to increase test accuracy, I recommend finding the depth where you are ok with the tradeoff in training time for the optimal test accuracy."
   ]
  },
  {
   "cell_type": "markdown",
   "metadata": {},
   "source": [
    "# Overall, based on the models analyzed in this notebook, I recommend the KNN model with 5 nearest neighbors as it has the best test accuracy of all the models tried. Also, it had the best train time compared to the other models."
   ]
  },
  {
   "cell_type": "code",
   "execution_count": null,
   "metadata": {},
   "outputs": [],
   "source": []
  },
  {
   "cell_type": "code",
   "execution_count": null,
   "metadata": {},
   "outputs": [],
   "source": []
  },
  {
   "cell_type": "code",
   "execution_count": null,
   "metadata": {},
   "outputs": [],
   "source": []
  },
  {
   "cell_type": "code",
   "execution_count": null,
   "metadata": {},
   "outputs": [],
   "source": []
  },
  {
   "cell_type": "code",
   "execution_count": null,
   "metadata": {},
   "outputs": [],
   "source": []
  },
  {
   "cell_type": "markdown",
   "metadata": {},
   "source": [
    "##### Questions"
   ]
  }
 ],
 "metadata": {
  "kernelspec": {
   "display_name": "Python 3 (ipykernel)",
   "language": "python",
   "name": "python3"
  },
  "language_info": {
   "codemirror_mode": {
    "name": "ipython",
    "version": 3
   },
   "file_extension": ".py",
   "mimetype": "text/x-python",
   "name": "python",
   "nbconvert_exporter": "python",
   "pygments_lexer": "ipython3",
   "version": "3.11.7"
  },
  "widgets": {
   "application/vnd.jupyter.widget-state+json": {
    "state": {},
    "version_major": 2,
    "version_minor": 0
   }
  }
 },
 "nbformat": 4,
 "nbformat_minor": 4
}
